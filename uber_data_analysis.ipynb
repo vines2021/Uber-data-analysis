{
  "nbformat": 4,
  "nbformat_minor": 0,
  "metadata": {
    "colab": {
      "provenance": [],
      "authorship_tag": "ABX9TyOuCb1dyzwBfpSt2OIU1InK",
      "include_colab_link": true
    },
    "kernelspec": {
      "name": "python3",
      "display_name": "Python 3"
    },
    "language_info": {
      "name": "python"
    }
  },
  "cells": [
    {
      "cell_type": "markdown",
      "metadata": {
        "id": "view-in-github",
        "colab_type": "text"
      },
      "source": [
        "<a href=\"https://colab.research.google.com/github/vines2021/Uber-data-analysis/blob/main/uber_data_analysis.ipynb\" target=\"_parent\"><img src=\"https://colab.research.google.com/assets/colab-badge.svg\" alt=\"Open In Colab\"/></a>"
      ]
    },
    {
      "cell_type": "code",
      "execution_count": null,
      "metadata": {
        "id": "lqBqzI-ZycSh"
      },
      "outputs": [],
      "source": [
        "import pandas as pd\n",
        "import numpy as np\n",
        "import datetime\n",
        "import matplotlib\n",
        "import matplotlib.pyplot as plt\n",
        "import seaborn as sns\n",
        "import calendar\n",
        "\n",
        "data=pd.read_csv('/content/Uber Drives - .csv')\n",
        "data.head()\n",
        "\n",
        "data.isnull().any()\n",
        "\n",
        "data.isnull().sum()\n",
        "\n",
        "data=data.dropna()\n",
        "\n",
        "data.isnull().sum()\n",
        "\n",
        "data['START_DATE*'] = pd.to_datetime(data['START_DATE*'], format=\"%m/%d/%Y %H:%M\")\n",
        "data['END_DATE*'] = pd.to_datetime(data['END_DATE*'], format=\"%m/%d/%Y %H:%M\")\n",
        "\n",
        "hour=[]\n",
        "day=[]\n",
        "dayofweek=[]\n",
        "month=[]\n",
        "weekday=[]\n",
        "for x in data['START_DATE*']:\n",
        "    hour.append(x.hour)\n",
        "    day.append(x.day)\n",
        "    dayofweek.append(x.dayofweek)\n",
        "    month.append(x.month)\n",
        "    weekday.append(calendar.day_name[dayofweek[-1]])\n",
        "data['HOUR']=hour\n",
        "data['DAY']=day\n",
        "data['DAY_OF_WEEK']=dayofweek\n",
        "data['MONTH']=month\n",
        "data['WEEKDAY']=weekday\n",
        "\n",
        "data.head()\n",
        "\n",
        "data['CATEGORY*'].value_counts()\n",
        "\n",
        "sns.countplot(x='CATEGORY*',data=data)\n",
        "\n",
        "data['MILES*'].plot.hist()\n",
        "\n",
        "hours = data['START_DATE*'].dt.hour.value_counts()\n",
        "hours.plot(kind='bar',color='red',figsize=(10,5))\n",
        "plt.xlabel('Hours')\n",
        "plt.ylabel('Frequency')\n",
        "plt.title('Number of trips Vs hours')\n",
        "\n",
        "data['PURPOSE*'].value_counts().plot(kind='bar',figsize=(10,5),color='brown')\n",
        "\n",
        "data['WEEKDAY'].value_counts().plot(kind='bar',figsize=(10,5),color='blue')\n",
        "\n",
        "data['DAY'].value_counts().plot(kind='bar',figsize=(10,5),color='green')\n",
        "\n",
        "data['MONTH'].value_counts().plot(kind='bar',figsize=(10,5),color='black')\n",
        "\n",
        "data['START*'].value_counts().plot(kind='bar',figsize=(25,10),color='blue')"
      ]
    }
  ]
}